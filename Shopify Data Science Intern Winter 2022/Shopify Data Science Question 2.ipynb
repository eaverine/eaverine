{
 "cells": [
  {
   "cell_type": "markdown",
   "metadata": {},
   "source": [
    "### Question 2 Solution\n",
    "a. 54 Orders  \n",
    "b. Peacock  \n",
    "c. Thüringer Rostbratwurst"
   ]
  },
  {
   "cell_type": "raw",
   "metadata": {},
   "source": [
    "SELECT * FROM SHIPPERS WHERE SHIPPERNAME = 'Speedy Express';\n",
    "SELECT COUNT(*) FROM ORDERS WHERE SHIPPERID = 1;"
   ]
  },
  {
   "cell_type": "raw",
   "metadata": {},
   "source": [
    "SELECT EMPLOYEEID, COUNT(EMPLOYEEID) FROM ORDERS GROUP BY EMPLOYEEID;\n",
    "SELECT LASTNAME FROM EMPLOYEES WHERE EMPLOYEEID = 4;"
   ]
  },
  {
   "cell_type": "raw",
   "metadata": {},
   "source": [
    "SELECT * FROM SUPPLIERS WHERE COUNTRY = 'Germany';\n",
    "SELECT * FROM PRODUCTS WHERE SUPPLIERID = 11 OR SUPPLIERID = 12 OR SUPPLIERID = 13 ORDER BY UNIT; "
   ]
  }
 ],
 "metadata": {
  "kernelspec": {
   "display_name": "Python 3",
   "language": "python",
   "name": "python3"
  },
  "language_info": {
   "codemirror_mode": {
    "name": "ipython",
    "version": 3
   },
   "file_extension": ".py",
   "mimetype": "text/x-python",
   "name": "python",
   "nbconvert_exporter": "python",
   "pygments_lexer": "ipython3",
   "version": "3.8.5"
  }
 },
 "nbformat": 4,
 "nbformat_minor": 4
}
